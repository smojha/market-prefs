{
  "cells": [
    {
      "cell_type": "code",
      "execution_count": 8,
      "metadata": {},
      "outputs": [
        {
          "name": "stdout",
          "output_type": "stream",
          "text": [
            "/Users/siddharthaojha/Desktop/market-prefs/bots/bot-data/real-experiment-runs\n"
          ]
        }
      ],
      "source": [
        "import json\n",
        "import os\n",
        "\n",
        "nums_agents = 20\n",
        "\n",
        "run_data_folders = \"\"\n",
        "\n",
        "print(os.getcwd())\n",
        "\n",
        "# cound number of folders in run_data_folders\n",
        "num_folders = 27\n",
        "\n",
        "for run_number in range(1, num_folders + 1):\n",
        "    run_subdirectory = run_data_folders + \"run-\" + str(run_number) + \"/\"\n",
        "\n",
        "    round_data = {}\n",
        "\n",
        "    for agent in range(1, nums_agents + 1):\n",
        "        # open agent history file\n",
        "        agent_file = run_subdirectory + \"bot-\" + str(agent) + \"-history.json\"\n",
        "        with open(agent_file) as f:\n",
        "            agent_history = json.load(f)\n",
        "            for round in agent_history:\n",
        "                round_num = round[\"round_num\"]\n",
        "                if round_num not in round_data:\n",
        "                    round_data[round_num] = []\n",
        "                # check if agent id is already in round data (recent addition) - key is agent_id\n",
        "                if \"agent_id\" not in round:\n",
        "                    round[\"agent_id\"] = agent\n",
        "                round_data[round_num].append(round)\n",
        "\n",
        "    # Update keys to be of the form \"Round {X - 3}\" where X is the round number for X > 3 and \"Practice Round X\" for X <= 3\n",
        "    round_data_keys = list(round_data.keys())\n",
        "    for round_num in round_data_keys:\n",
        "        # continue if round_num is not an integer\n",
        "        if not isinstance(round_num, int):\n",
        "            continue\n",
        "        if round_num <= 3:\n",
        "            round_data[\"Practice Round \" + str(round_num)] = round_data.pop(round_num)\n",
        "        else:\n",
        "            round_data[\"Round \" + str(round_num - 3)] = round_data.pop(round_num)\n",
        "    # Write the data to a file\n",
        "    with open(run_subdirectory + \"all-rounds-compressed.json\", \"w\") as f:\n",
        "        json.dump(round_data, f, indent=4)\n",
        "\n",
        "    # Make a human readable version of the plans, insights, and thoughts and observations\n",
        "    # use the existing round_data\n",
        "    output_file = run_subdirectory + \"all-human-readable-insights.txt\"\n",
        "    with open(output_file, \"w\") as f:\n",
        "        for round_key in round_data.keys():\n",
        "            f.write(f\"=== 🌀 Round: {round_key} 🌀 ===\\n\")\n",
        "            for agent_round in round_data[round_key]:\n",
        "                # agent id\n",
        "                agent_id = agent_round[\"agent_id\"]\n",
        "                # plans\n",
        "                plans = agent_round.get(\"plan\", \"🚫 No Plan Written\")\n",
        "                # insights\n",
        "                insights = agent_round.get(\"insight\", \"🚫 No Insight Written\")\n",
        "                # thoughts and observations\n",
        "                thoughts_observations = agent_round.get(\"thought_observation\", \"🚫 No Thought/Observation Written\")\n",
        "                \n",
        "                # Write to file in a human-readable format\n",
        "                f.write(f\"🔹 Agent ID: {agent_id}\\n\")\n",
        "                f.write(f\"🔸 Plans: {plans}\\n\")\n",
        "                f.write(f\"🔸 Insights: {insights}\\n\")\n",
        "                f.write(f\"🔸 Thoughts and Observations: {thoughts_observations}\\n\")\n",
        "                f.write(\"\\n\")  # Add a newline for better readability"
      ]
    }
  ],
  "metadata": {
    "colab": {
      "provenance": []
    },
    "kernelspec": {
      "display_name": "Python 3",
      "name": "python3"
    },
    "language_info": {
      "codemirror_mode": {
        "name": "ipython",
        "version": 3
      },
      "file_extension": ".py",
      "mimetype": "text/x-python",
      "name": "python",
      "nbconvert_exporter": "python",
      "pygments_lexer": "ipython3",
      "version": "3.10.12"
    }
  },
  "nbformat": 4,
  "nbformat_minor": 0
}
